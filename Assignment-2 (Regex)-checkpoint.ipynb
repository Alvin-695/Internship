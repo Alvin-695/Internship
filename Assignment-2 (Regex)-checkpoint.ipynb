{
 "cells": [
  {
   "cell_type": "markdown",
   "id": "f14d70b8",
   "metadata": {},
   "source": [
    "### BATCH-DS2311\n",
    "NAME-Alvin V Regi"
   ]
  },
  {
   "cell_type": "markdown",
   "id": "93b1c56a",
   "metadata": {},
   "source": [
    "##### Question 1- Write a Python program to replace all occurrences of a space, comma, or dot with a colon."
   ]
  },
  {
   "cell_type": "code",
   "execution_count": 3,
   "id": "348e4fc2",
   "metadata": {},
   "outputs": [],
   "source": [
    "import warnings \n",
    "warnings.filterwarnings('ignore')\n",
    "import pandas as pd\n",
    "import re"
   ]
  },
  {
   "cell_type": "code",
   "execution_count": 310,
   "id": "78ca9845",
   "metadata": {},
   "outputs": [
    {
     "name": "stdout",
     "output_type": "stream",
     "text": [
      "Python:Exercises::PHP:exercises:\n"
     ]
    }
   ],
   "source": [
    "Txt=\"Python Exercises, PHP exercises.\"\n",
    "Result=re.sub(r\"[\\s,\\.]\",\":\",Txt)\n",
    "print(Result)"
   ]
  },
  {
   "cell_type": "markdown",
   "id": "2d13966b",
   "metadata": {},
   "source": [
    "##### Question 2-  Create a dataframe using the dictionary below and remove everything (commas (,), !, XXXX, ;, etc.) from the columns except words.\n"
   ]
  },
  {
   "cell_type": "code",
   "execution_count": 102,
   "id": "f2f9d9e2",
   "metadata": {},
   "outputs": [
    {
     "data": {
      "text/html": [
       "<div>\n",
       "<style scoped>\n",
       "    .dataframe tbody tr th:only-of-type {\n",
       "        vertical-align: middle;\n",
       "    }\n",
       "\n",
       "    .dataframe tbody tr th {\n",
       "        vertical-align: top;\n",
       "    }\n",
       "\n",
       "    .dataframe thead th {\n",
       "        text-align: right;\n",
       "    }\n",
       "</style>\n",
       "<table border=\"1\" class=\"dataframe\">\n",
       "  <thead>\n",
       "    <tr style=\"text-align: right;\">\n",
       "      <th></th>\n",
       "      <th>SUMMARY</th>\n",
       "    </tr>\n",
       "  </thead>\n",
       "  <tbody>\n",
       "    <tr>\n",
       "      <th>0</th>\n",
       "      <td>hello, world!</td>\n",
       "    </tr>\n",
       "    <tr>\n",
       "      <th>1</th>\n",
       "      <td>XXXXX test</td>\n",
       "    </tr>\n",
       "    <tr>\n",
       "      <th>2</th>\n",
       "      <td>123four, five:; six...</td>\n",
       "    </tr>\n",
       "  </tbody>\n",
       "</table>\n",
       "</div>"
      ],
      "text/plain": [
       "                  SUMMARY\n",
       "0           hello, world!\n",
       "1              XXXXX test\n",
       "2  123four, five:; six..."
      ]
     },
     "execution_count": 102,
     "metadata": {},
     "output_type": "execute_result"
    }
   ],
   "source": [
    "Dictionary={'SUMMARY' : ['hello, world!', 'XXXXX test', '123four, five:; six...']}\n",
    "df=pd.DataFrame(data=Dictionary)\n",
    "df"
   ]
  },
  {
   "cell_type": "code",
   "execution_count": 103,
   "id": "1c2aa3de",
   "metadata": {},
   "outputs": [
    {
     "data": {
      "text/plain": [
       "0      hello world\n",
       "1             test\n",
       "2    four five six\n",
       "Name: SUMMARY, dtype: object"
      ]
     },
     "execution_count": 103,
     "metadata": {},
     "output_type": "execute_result"
    }
   ],
   "source": [
    "Pattern=\"[,!X+\\d+:;\\.]\"\n",
    "df['SUMMARY'].str.replace(Pattern,\"\")"
   ]
  },
  {
   "cell_type": "markdown",
   "id": "f77f9dc5",
   "metadata": {},
   "source": [
    "##### Question 3- Create a function in python to find all words that are at least 4 characters long in a string. The use of the re.compile() method is mandatory."
   ]
  },
  {
   "cell_type": "code",
   "execution_count": 3,
   "id": "6ca94fd0",
   "metadata": {},
   "outputs": [
    {
     "name": "stdout",
     "output_type": "stream",
     "text": [
      "['Experience', 'name', 'everyone', 'gives', 'their', 'mistakes']\n"
     ]
    }
   ],
   "source": [
    "Txt=\"Experience is the name everyone gives to their mistakes.\"\n",
    "Pattern=\"\\w{4,}\"\n",
    "Result=re.compile(Pattern)\n",
    "x=Result.findall(Txt)\n",
    "print(x)"
   ]
  },
  {
   "cell_type": "markdown",
   "id": "6069f790",
   "metadata": {},
   "source": [
    "##### Question 4- Create a function in python to find all three, four, and five character words in a string. The use of the re.compile() method is mandatory.\n"
   ]
  },
  {
   "cell_type": "code",
   "execution_count": 105,
   "id": "44b36c47",
   "metadata": {},
   "outputs": [
    {
     "name": "stdout",
     "output_type": "stream",
     "text": [
      "[' which ', ' work ', ' want ', ' great ', ' learn ', ' least ']\n"
     ]
    }
   ],
   "source": [
    "Txt=\"No matter which field of work you want to go in, it is of great importance to learn at least one programming language.\"\n",
    "Pattern=\"\\s\\w{3,5}\\s\"\n",
    "Result=re.compile(Pattern)\n",
    "x=Result.findall(Txt)\n",
    "print(x)"
   ]
  },
  {
   "cell_type": "markdown",
   "id": "8f44bcf1",
   "metadata": {},
   "source": [
    "##### Question 5- Create a function in Python to remove the parenthesis in a list of strings. The use of the re.compile() method is mandatory."
   ]
  },
  {
   "cell_type": "code",
   "execution_count": 256,
   "id": "ddca5598",
   "metadata": {},
   "outputs": [
    {
     "name": "stdout",
     "output_type": "stream",
     "text": [
      "example .com\n",
      "hr@fliprobo .com\n",
      "github .com\n",
      "Hello Data Science World\n",
      "Data Scientist\n"
     ]
    }
   ],
   "source": [
    "txt=[\"example (.com)\", \"hr@fliprobo (.com)\", \"github (.com)\", \"Hello (Data Science World)\", \"Data (Scientist)\"]\n",
    "for i in txt:\n",
    "    x=re.sub(r\"\\(|\\)\",r\"\",i)\n",
    "    print(x)"
   ]
  },
  {
   "cell_type": "markdown",
   "id": "fce270a2",
   "metadata": {},
   "source": [
    "##### Question 6- Write a python program to remove the parenthesis area from the text stored in the text file using Regular Expression."
   ]
  },
  {
   "cell_type": "code",
   "execution_count": 257,
   "id": "f62483a3",
   "metadata": {},
   "outputs": [
    {
     "name": "stdout",
     "output_type": "stream",
     "text": [
      "example \n",
      "hr@fliprobo \n",
      "github \n",
      "Hello \n",
      "Data \n"
     ]
    }
   ],
   "source": [
    "Txt=[\"example (.com)\", \"hr@fliprobo (.com)\", \"github (.com)\", \"Hello (Data Science World)\", \"Data (Scientist)\"]\n",
    "for i in Txt:\n",
    "    x=re.sub(r'\\(.*?\\)',\"\",i)\n",
    "    print(x)"
   ]
  },
  {
   "cell_type": "markdown",
   "id": "19153143",
   "metadata": {},
   "source": [
    "##### Question 7- Write a regular expression in Python to split a string into uppercase letters."
   ]
  },
  {
   "cell_type": "code",
   "execution_count": 254,
   "id": "a935653a",
   "metadata": {},
   "outputs": [
    {
     "name": "stdout",
     "output_type": "stream",
     "text": [
      "['Importance', 'Of', 'Regular', 'Expressions', 'In', 'Python']\n"
     ]
    }
   ],
   "source": [
    "Txt=\"ImportanceOfRegularExpressionsInPython\"\n",
    "x=re.findall(r\"[A-Z][a-z]+\",Txt)\n",
    "print(x)"
   ]
  },
  {
   "cell_type": "markdown",
   "id": "579211e2",
   "metadata": {},
   "source": [
    "##### Question 8- Create a function in python to insert spaces between words starting with numbers."
   ]
  },
  {
   "cell_type": "code",
   "execution_count": 313,
   "id": "2043cb5e",
   "metadata": {},
   "outputs": [
    {
     "name": "stdout",
     "output_type": "stream",
     "text": [
      "RegularExpression 1IsAn 2ImportantTopic 3InPython\n"
     ]
    }
   ],
   "source": [
    "txt='RegularExpression1IsAn2ImportantTopic3InPython'\n",
    "x=re.sub(r\"(?=\\d+)\",\" \",txt)\n",
    "print(x)"
   ]
  },
  {
   "cell_type": "markdown",
   "id": "f3cde2ea",
   "metadata": {},
   "source": [
    "##### Question 9- Create a function in python to insert spaces between words starting with capital letters or with numbers."
   ]
  },
  {
   "cell_type": "code",
   "execution_count": 203,
   "id": "d4edb6b3",
   "metadata": {},
   "outputs": [
    {
     "name": "stdout",
     "output_type": "stream",
     "text": [
      "RegularExpression 1IsAn 2ImportantTopic 3InPython\n"
     ]
    }
   ],
   "source": [
    "text='RegularExpression1IsAn2ImportantTopic3InPython'\n",
    "x=re.sub(r\"(?=\\d+)\",\" \",text)\n",
    "print(x)"
   ]
  },
  {
   "cell_type": "markdown",
   "id": "cdc9dbe4",
   "metadata": {},
   "source": [
    "##### Question 10- Use the github link below to read the data and create a dataframe. After creating the dataframe extract the first 6 letters of each country and store in the dataframe under a new column called first_five_letters."
   ]
  },
  {
   "cell_type": "code",
   "execution_count": 4,
   "id": "a07ba890",
   "metadata": {},
   "outputs": [],
   "source": [
    "df=pd.read_csv(\"happiness_score.csv\")"
   ]
  },
  {
   "cell_type": "code",
   "execution_count": 5,
   "id": "873b7f34",
   "metadata": {},
   "outputs": [
    {
     "data": {
      "text/html": [
       "<div>\n",
       "<style scoped>\n",
       "    .dataframe tbody tr th:only-of-type {\n",
       "        vertical-align: middle;\n",
       "    }\n",
       "\n",
       "    .dataframe tbody tr th {\n",
       "        vertical-align: top;\n",
       "    }\n",
       "\n",
       "    .dataframe thead th {\n",
       "        text-align: right;\n",
       "    }\n",
       "</style>\n",
       "<table border=\"1\" class=\"dataframe\">\n",
       "  <thead>\n",
       "    <tr style=\"text-align: right;\">\n",
       "      <th></th>\n",
       "      <th>Country</th>\n",
       "      <th>Region</th>\n",
       "      <th>Happiness Rank</th>\n",
       "      <th>Happiness Score</th>\n",
       "      <th>Standard Error</th>\n",
       "      <th>Economy (GDP per Capita)</th>\n",
       "      <th>Family</th>\n",
       "      <th>Health (Life Expectancy)</th>\n",
       "      <th>Freedom</th>\n",
       "      <th>Trust (Government Corruption)</th>\n",
       "      <th>Generosity</th>\n",
       "      <th>Dystopia Residual</th>\n",
       "    </tr>\n",
       "  </thead>\n",
       "  <tbody>\n",
       "    <tr>\n",
       "      <th>0</th>\n",
       "      <td>Switzerland</td>\n",
       "      <td>Western Europe</td>\n",
       "      <td>1</td>\n",
       "      <td>7.587</td>\n",
       "      <td>0.03411</td>\n",
       "      <td>1.39651</td>\n",
       "      <td>1.34951</td>\n",
       "      <td>0.94143</td>\n",
       "      <td>0.66557</td>\n",
       "      <td>0.41978</td>\n",
       "      <td>0.29678</td>\n",
       "      <td>2.51738</td>\n",
       "    </tr>\n",
       "    <tr>\n",
       "      <th>1</th>\n",
       "      <td>Iceland</td>\n",
       "      <td>Western Europe</td>\n",
       "      <td>2</td>\n",
       "      <td>7.561</td>\n",
       "      <td>0.04884</td>\n",
       "      <td>1.30232</td>\n",
       "      <td>1.40223</td>\n",
       "      <td>0.94784</td>\n",
       "      <td>0.62877</td>\n",
       "      <td>0.14145</td>\n",
       "      <td>0.43630</td>\n",
       "      <td>2.70201</td>\n",
       "    </tr>\n",
       "    <tr>\n",
       "      <th>2</th>\n",
       "      <td>Denmark</td>\n",
       "      <td>Western Europe</td>\n",
       "      <td>3</td>\n",
       "      <td>7.527</td>\n",
       "      <td>0.03328</td>\n",
       "      <td>1.32548</td>\n",
       "      <td>1.36058</td>\n",
       "      <td>0.87464</td>\n",
       "      <td>0.64938</td>\n",
       "      <td>0.48357</td>\n",
       "      <td>0.34139</td>\n",
       "      <td>2.49204</td>\n",
       "    </tr>\n",
       "    <tr>\n",
       "      <th>3</th>\n",
       "      <td>Norway</td>\n",
       "      <td>Western Europe</td>\n",
       "      <td>4</td>\n",
       "      <td>7.522</td>\n",
       "      <td>0.03880</td>\n",
       "      <td>1.45900</td>\n",
       "      <td>1.33095</td>\n",
       "      <td>0.88521</td>\n",
       "      <td>0.66973</td>\n",
       "      <td>0.36503</td>\n",
       "      <td>0.34699</td>\n",
       "      <td>2.46531</td>\n",
       "    </tr>\n",
       "    <tr>\n",
       "      <th>4</th>\n",
       "      <td>Canada</td>\n",
       "      <td>North America</td>\n",
       "      <td>5</td>\n",
       "      <td>7.427</td>\n",
       "      <td>0.03553</td>\n",
       "      <td>1.32629</td>\n",
       "      <td>1.32261</td>\n",
       "      <td>0.90563</td>\n",
       "      <td>0.63297</td>\n",
       "      <td>0.32957</td>\n",
       "      <td>0.45811</td>\n",
       "      <td>2.45176</td>\n",
       "    </tr>\n",
       "  </tbody>\n",
       "</table>\n",
       "</div>"
      ],
      "text/plain": [
       "       Country          Region  Happiness Rank  Happiness Score  \\\n",
       "0  Switzerland  Western Europe               1            7.587   \n",
       "1      Iceland  Western Europe               2            7.561   \n",
       "2      Denmark  Western Europe               3            7.527   \n",
       "3       Norway  Western Europe               4            7.522   \n",
       "4       Canada   North America               5            7.427   \n",
       "\n",
       "   Standard Error  Economy (GDP per Capita)   Family  \\\n",
       "0         0.03411                   1.39651  1.34951   \n",
       "1         0.04884                   1.30232  1.40223   \n",
       "2         0.03328                   1.32548  1.36058   \n",
       "3         0.03880                   1.45900  1.33095   \n",
       "4         0.03553                   1.32629  1.32261   \n",
       "\n",
       "   Health (Life Expectancy)  Freedom  Trust (Government Corruption)  \\\n",
       "0                   0.94143  0.66557                        0.41978   \n",
       "1                   0.94784  0.62877                        0.14145   \n",
       "2                   0.87464  0.64938                        0.48357   \n",
       "3                   0.88521  0.66973                        0.36503   \n",
       "4                   0.90563  0.63297                        0.32957   \n",
       "\n",
       "   Generosity  Dystopia Residual  \n",
       "0     0.29678            2.51738  \n",
       "1     0.43630            2.70201  \n",
       "2     0.34139            2.49204  \n",
       "3     0.34699            2.46531  \n",
       "4     0.45811            2.45176  "
      ]
     },
     "execution_count": 5,
     "metadata": {},
     "output_type": "execute_result"
    }
   ],
   "source": [
    "df.head()"
   ]
  },
  {
   "cell_type": "code",
   "execution_count": 21,
   "id": "66519407",
   "metadata": {},
   "outputs": [
    {
     "name": "stdout",
     "output_type": "stream",
     "text": [
      "         Country first_five_letters\n",
      "0    Switzerland             Switze\n",
      "1        Iceland             Icelan\n",
      "2        Denmark             Denmar\n",
      "3         Norway             Norway\n",
      "4         Canada             Canada\n",
      "..           ...                ...\n",
      "153       Rwanda             Rwanda\n",
      "154        Benin              Benin\n",
      "155        Syria              Syria\n",
      "156      Burundi             Burund\n",
      "157         Togo               Togo\n",
      "\n",
      "[158 rows x 2 columns]\n"
     ]
    }
   ],
   "source": [
    "df['first_five_letters'] = df['Country'].str.extract(r'(\\w{1,6})')\n",
    "print(df[[\"Country\",\"first_five_letters\"]])"
   ]
  },
  {
   "cell_type": "markdown",
   "id": "5d8ad8e4",
   "metadata": {},
   "source": [
    "##### Question 11- Write a Python program to match a string that contains only upper and lowercase letters, numbers, and underscores."
   ]
  },
  {
   "cell_type": "code",
   "execution_count": 314,
   "id": "63193ad3",
   "metadata": {},
   "outputs": [
    {
     "name": "stdout",
     "output_type": "stream",
     "text": [
      "['Sell', 'me', 'the', '_Porsche', 'in', '12', 'milloin']\n"
     ]
    }
   ],
   "source": [
    "Txt=\"Sell me the _Porsche in 12 milloin \"\n",
    "x=re.findall(r\"\\w+\",Txt)\n",
    "print(x)"
   ]
  },
  {
   "cell_type": "markdown",
   "id": "3be9ba45",
   "metadata": {},
   "source": [
    "##### Question 12- Write a Python program where a string will start with a specific number. "
   ]
  },
  {
   "cell_type": "code",
   "execution_count": 315,
   "id": "6294f37b",
   "metadata": {},
   "outputs": [
    {
     "data": {
      "text/plain": [
       "True"
      ]
     },
     "execution_count": 315,
     "metadata": {},
     "output_type": "execute_result"
    }
   ],
   "source": [
    "txt=\"07 is my lucky number\"\n",
    "bool(re.search(r\"^\\d\",txt))"
   ]
  },
  {
   "cell_type": "markdown",
   "id": "e7a3ef86",
   "metadata": {},
   "source": [
    "##### Question 13- Write a Python program to remove leading zeros from an IP address"
   ]
  },
  {
   "cell_type": "code",
   "execution_count": 316,
   "id": "55ef900d",
   "metadata": {},
   "outputs": [
    {
     "name": "stdout",
     "output_type": "stream",
     "text": [
      "192.8.1.38\n"
     ]
    }
   ],
   "source": [
    "txt=\"192.008.01.038\"\n",
    "x=re.sub(r\"0+\",\"\",txt)\n",
    "print(x)"
   ]
  },
  {
   "cell_type": "markdown",
   "id": "b658240f",
   "metadata": {},
   "source": [
    "##### Question 14- Write a regular expression in python to match a date string in the form of Month name followed by day number and year stored in a text file."
   ]
  },
  {
   "cell_type": "code",
   "execution_count": 387,
   "id": "843a6408",
   "metadata": {},
   "outputs": [
    {
     "name": "stdout",
     "output_type": "stream",
     "text": [
      "[' August 15th 1947']\n"
     ]
    }
   ],
   "source": [
    "txt=\"On August 15th 1947 that India was declared independent from British colonialism, and the reins of control were handed over to the leaders of the Country.\"\n",
    "x=re.findall(r\"[A-Za-z]+(.*\\d{2}\\w.*\\s+\\d{4})\",txt)\n",
    "print(x)"
   ]
  },
  {
   "cell_type": "markdown",
   "id": "a993ede5",
   "metadata": {},
   "source": [
    "##### Question 15- Write a Python program to search some literals strings in a string. "
   ]
  },
  {
   "cell_type": "code",
   "execution_count": 384,
   "id": "879523e5",
   "metadata": {},
   "outputs": [
    {
     "name": "stdout",
     "output_type": "stream",
     "text": [
      "['fox', 'dog']\n"
     ]
    }
   ],
   "source": [
    "txt=\"The quick brown fox jumps over the lazy dog.\"\n",
    "x=re.findall(\"fox|dog|horse\",txt)\n",
    "print(x)"
   ]
  },
  {
   "cell_type": "markdown",
   "id": "37be3eb6",
   "metadata": {},
   "source": [
    "##### Question 16- Write a Python program to search a literals string in a string and also find the location within the original string where the pattern occurs"
   ]
  },
  {
   "cell_type": "code",
   "execution_count": 385,
   "id": "76f7862f",
   "metadata": {},
   "outputs": [
    {
     "name": "stdout",
     "output_type": "stream",
     "text": [
      "<re.Match object; span=(16, 19), match='fox'>\n"
     ]
    }
   ],
   "source": [
    "txt=\"The quick brown fox jumps over the lazy dog.\"\n",
    "x=re.search(\"fox\",txt)\n",
    "print(x)"
   ]
  },
  {
   "cell_type": "markdown",
   "id": "d81cb896",
   "metadata": {},
   "source": [
    "##### Question 17- Write a Python program to find the substrings within a string."
   ]
  },
  {
   "cell_type": "code",
   "execution_count": 395,
   "id": "da4a0acd",
   "metadata": {},
   "outputs": [
    {
     "data": {
      "text/plain": [
       "['exercises', 'exercises', 'exercises']"
      ]
     },
     "execution_count": 395,
     "metadata": {},
     "output_type": "execute_result"
    }
   ],
   "source": [
    "txt=\"Python exercises, PHP exercises, C# exercises\"\n",
    "x=re.findall(\"exercises\",txt)\n",
    "x"
   ]
  },
  {
   "cell_type": "markdown",
   "id": "2ea389e8",
   "metadata": {},
   "source": [
    "##### Question 18- Write a Python program to find the occurrence and position of the substrings within a string."
   ]
  },
  {
   "cell_type": "code",
   "execution_count": 29,
   "id": "29644ec7",
   "metadata": {},
   "outputs": [
    {
     "name": "stdout",
     "output_type": "stream",
     "text": [
      "<re.Match object; span=(7, 16), match='exercises'>\n",
      "<re.Match object; span=(22, 31), match='exercises'>\n",
      "<re.Match object; span=(36, 45), match='exercises'>\n"
     ]
    }
   ],
   "source": [
    "txt='Python exercises, PHP exercises, C# exercises'\n",
    "x=re.finditer(r\"exercises\",txt)\n",
    "for i in x:\n",
    "    print(i)"
   ]
  },
  {
   "cell_type": "markdown",
   "id": "e26c18ee",
   "metadata": {},
   "source": [
    "##### Question 19- Write a Python program to convert a date of yyyy-mm-dd format to dd-mm-yyyy format."
   ]
  },
  {
   "cell_type": "code",
   "execution_count": 80,
   "id": "733fd588",
   "metadata": {},
   "outputs": [
    {
     "name": "stdout",
     "output_type": "stream",
     "text": [
      "15-12-2023\n"
     ]
    }
   ],
   "source": [
    "txt=\"2023-12-15\"\n",
    "x=re.sub(r'(\\d{4})-(\\d{2})-(\\d{2})',r'\\3-\\2-\\1',txt)\n",
    "print(x)"
   ]
  },
  {
   "cell_type": "markdown",
   "id": "fa8f23db",
   "metadata": {},
   "source": [
    "##### Question 20- Create a function in python to find all decimal numbers with a precision of 1 or 2 in a string. The use of the re.compile() method is mandatory."
   ]
  },
  {
   "cell_type": "code",
   "execution_count": 94,
   "id": "1ab16b8b",
   "metadata": {},
   "outputs": [
    {
     "name": "stdout",
     "output_type": "stream",
     "text": [
      "['01.12', '145.8', '3.01', '27.25', '0.25']\n"
     ]
    }
   ],
   "source": [
    "txt=\"01.12 0132.123 2.31875 145.8 3.01 27.25 0.25\"\n",
    "x=re.findall(r\"\\b\\d+\\.\\d{1,2}\\b\",txt)\n",
    "print(x)"
   ]
  },
  {
   "cell_type": "markdown",
   "id": "71bf58ec",
   "metadata": {},
   "source": [
    "##### Question 21- Write a Python program to separate and print the numbers and their position of a given string."
   ]
  },
  {
   "cell_type": "code",
   "execution_count": 95,
   "id": "96fa087f",
   "metadata": {},
   "outputs": [
    {
     "name": "stdout",
     "output_type": "stream",
     "text": [
      "<re.Match object; span=(23, 25), match='18'>\n",
      "<re.Match object; span=(43, 45), match='20'>\n"
     ]
    }
   ],
   "source": [
    "txt=\"I did my Graduation in 18 and my master in 20\"\n",
    "x=re.finditer(r\"\\b\\d+\\b\",txt)\n",
    "for i in x:\n",
    "    print(i)"
   ]
  },
  {
   "cell_type": "markdown",
   "id": "cc5615ca",
   "metadata": {},
   "source": [
    "##### Question 23- Create a function in python to insert spaces between words starting with capital letters."
   ]
  },
  {
   "cell_type": "code",
   "execution_count": 112,
   "id": "0edc32b5",
   "metadata": {},
   "outputs": [
    {
     "name": "stdout",
     "output_type": "stream",
     "text": [
      "Regular Expression Is An Important Topic In Python\n"
     ]
    }
   ],
   "source": [
    "txt=\"RegularExpressionIsAnImportantTopicInPython\"\n",
    "x=re.sub(r'(?<=[a-z])([A-Z])', r\" \\1\",txt)\n",
    "print(x)"
   ]
  },
  {
   "cell_type": "markdown",
   "id": "7fc7b0d1",
   "metadata": {},
   "source": [
    "##### Question 24- Python regex to find sequences of one upper case letter followed by lower case letters"
   ]
  },
  {
   "cell_type": "code",
   "execution_count": 113,
   "id": "c1b9e63a",
   "metadata": {},
   "outputs": [
    {
     "name": "stdout",
     "output_type": "stream",
     "text": [
      "['My', 'Name', 'Is', 'Alvin', 'Regi']\n"
     ]
    }
   ],
   "source": [
    "Txt=\"My Name Is Alvin v Regi\"\n",
    "x=re.findall(r\"[A-Z][a-z]+\",Txt)\n",
    "print(x)"
   ]
  },
  {
   "cell_type": "markdown",
   "id": "aa3098d3",
   "metadata": {},
   "source": [
    "##### Question 25- Write a Python program to remove continuous duplicate words from Sentence using Regular Expression."
   ]
  },
  {
   "cell_type": "code",
   "execution_count": 158,
   "id": "bda63fb7",
   "metadata": {},
   "outputs": [
    {
     "name": "stdout",
     "output_type": "stream",
     "text": [
      "Hello hello world\n"
     ]
    }
   ],
   "source": [
    "txt=\"Hello hello world world\"\n",
    "x=re.sub(r'\\b(\\w+)(\\s+\\1)+\\b', r'\\1',txt)\n",
    "print(x)"
   ]
  },
  {
   "cell_type": "markdown",
   "id": "98db83b4",
   "metadata": {},
   "source": [
    "##### Question 27-Write a python program using RegEx to extract the hashtags.\n"
   ]
  },
  {
   "cell_type": "code",
   "execution_count": 170,
   "id": "eac15515",
   "metadata": {},
   "outputs": [
    {
     "name": "stdout",
     "output_type": "stream",
     "text": [
      "['#Doltiwal', '#xyzabc', '#Demonetization']\n"
     ]
    }
   ],
   "source": [
    "txt=\"RT @kapil_kausik: #Doltiwal I mean #xyzabc is hurt by #Demonetization as the same has rendered USELESS <ed><U+00A0><U+00BD><ed><U+00B1><U+0089> acquired funds No wo\"\n",
    "x=re.findall(r\"#\\w+\",txt)\n",
    "print(x)"
   ]
  },
  {
   "cell_type": "markdown",
   "id": "5920a601",
   "metadata": {},
   "source": [
    "##### Question 28- Write a python program using RegEx to remove <U+..> like symbols"
   ]
  },
  {
   "cell_type": "code",
   "execution_count": 187,
   "id": "976a6d7c",
   "metadata": {},
   "outputs": [
    {
     "name": "stdout",
     "output_type": "stream",
     "text": [
      "@Jags123456 Bharat band on 28??<ed><ed>Those who  are protesting #demonetization  are all different party leaders\n"
     ]
    }
   ],
   "source": [
    "txt=\"@Jags123456 Bharat band on 28??<ed><U+00A0><U+00BD><ed><U+00B8><U+0082>Those who  are protesting #demonetization  are all different party leaders\"\n",
    "x=re.sub(r'<U\\+(.*?)+>', '',txt)\n",
    "print(x)"
   ]
  },
  {
   "cell_type": "markdown",
   "id": "339ec122",
   "metadata": {},
   "source": [
    "##### Question 29- Write a python program to extract dates from the text stored in the text file."
   ]
  },
  {
   "cell_type": "code",
   "execution_count": 190,
   "id": "c64d4dbf",
   "metadata": {},
   "outputs": [
    {
     "name": "stdout",
     "output_type": "stream",
     "text": [
      "['12-09-1992', '15-12-1999']\n"
     ]
    }
   ],
   "source": [
    "txt=\"Ron was born on 12-09-1992 and he was admitted to school 15-12-1999.\"\n",
    "x=re.findall(r\"(\\d{2}-\\d{2}-\\d{4})\",txt)\n",
    "print(x)"
   ]
  },
  {
   "cell_type": "markdown",
   "id": "bbeedd61",
   "metadata": {},
   "source": [
    "##### Question 30- Create a function in python to remove all words from a string of length between 2 and 4."
   ]
  },
  {
   "cell_type": "code",
   "execution_count": 191,
   "id": "022c6748",
   "metadata": {},
   "outputs": [
    {
     "name": "stdout",
     "output_type": "stream",
     "text": [
      " following example creates  ArrayList  a capacity   elements. 4 elements   added   ArrayList   ArrayList  trimmed accordingly.\n"
     ]
    }
   ],
   "source": [
    "txt=\"The following example creates an ArrayList with a capacity of 50 elements. 4 elements are then added to the ArrayList and the ArrayList is trimmed accordingly.\"\n",
    "pattern=re.compile(r\"\\b\\w{2,4}\\b\")\n",
    "x=pattern.sub(\"\",txt)\n",
    "print(x)"
   ]
  },
  {
   "cell_type": "code",
   "execution_count": null,
   "id": "4fe4b3d9",
   "metadata": {},
   "outputs": [],
   "source": []
  },
  {
   "cell_type": "code",
   "execution_count": null,
   "id": "c4cb277d",
   "metadata": {},
   "outputs": [],
   "source": []
  },
  {
   "cell_type": "code",
   "execution_count": null,
   "id": "9376c91d",
   "metadata": {},
   "outputs": [],
   "source": []
  },
  {
   "cell_type": "code",
   "execution_count": null,
   "id": "358dde00",
   "metadata": {},
   "outputs": [],
   "source": []
  },
  {
   "cell_type": "code",
   "execution_count": null,
   "id": "0c6a9043",
   "metadata": {},
   "outputs": [],
   "source": []
  },
  {
   "cell_type": "code",
   "execution_count": null,
   "id": "1e263414",
   "metadata": {},
   "outputs": [],
   "source": []
  }
 ],
 "metadata": {
  "kernelspec": {
   "display_name": "Python 3 (ipykernel)",
   "language": "python",
   "name": "python3"
  },
  "language_info": {
   "codemirror_mode": {
    "name": "ipython",
    "version": 3
   },
   "file_extension": ".py",
   "mimetype": "text/x-python",
   "name": "python",
   "nbconvert_exporter": "python",
   "pygments_lexer": "ipython3",
   "version": "3.10.9"
  }
 },
 "nbformat": 4,
 "nbformat_minor": 5
}
