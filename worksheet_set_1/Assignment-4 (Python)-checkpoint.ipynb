{
 "cells": [
  {
   "cell_type": "markdown",
   "id": "305a961d",
   "metadata": {},
   "source": [
    "### BATCH-DS2311"
   ]
  },
  {
   "cell_type": "markdown",
   "id": "4f1df36d",
   "metadata": {},
   "source": [
    "##### NAME-Alvin V Regi"
   ]
  },
  {
   "cell_type": "markdown",
   "id": "f8a6bf72",
   "metadata": {},
   "source": [
    "##### 1. Write a python program to find the factorial of a number."
   ]
  },
  {
   "cell_type": "code",
   "execution_count": 8,
   "id": "a19ae49d",
   "metadata": {},
   "outputs": [],
   "source": [
    "def factorial(num):\n",
    "    if num==1:\n",
    "        return 1\n",
    "    else:\n",
    "        return num*factorial(num-1)\n"
   ]
  },
  {
   "cell_type": "code",
   "execution_count": 9,
   "id": "c6e330fc",
   "metadata": {},
   "outputs": [
    {
     "data": {
      "text/plain": [
       "120"
      ]
     },
     "execution_count": 9,
     "metadata": {},
     "output_type": "execute_result"
    }
   ],
   "source": [
    "factorial(5)"
   ]
  },
  {
   "cell_type": "markdown",
   "id": "eb9394a2",
   "metadata": {},
   "source": [
    "##### 2. Write a python program to find whether a number is prime or composite."
   ]
  },
  {
   "cell_type": "code",
   "execution_count": 22,
   "id": "ff293385",
   "metadata": {},
   "outputs": [
    {
     "name": "stdout",
     "output_type": "stream",
     "text": [
      "Enter a positive integer: 5\n",
      "5 is a prime number.\n"
     ]
    }
   ],
   "source": [
    "num = int(input(\"Enter a positive integer: \"))\n",
    "is_prime = True\n",
    "\n",
    "if num == 1:\n",
    "    is_prime = False\n",
    "\n",
    "elif num > 1:\n",
    "    for i in range(2, int(num**0.5) + 1):\n",
    "        if num % i == 0:\n",
    "            is_prime = False\n",
    "            break\n",
    "if is_prime:\n",
    "    print(num, \"is a prime number.\")\n",
    "else:\n",
    "    print(num, \"is a composite number.\")\n"
   ]
  },
  {
   "cell_type": "markdown",
   "id": "778ee1d4",
   "metadata": {},
   "source": [
    "##### 3. Write a python program to check whether a given string is palindrome or not."
   ]
  },
  {
   "cell_type": "code",
   "execution_count": 21,
   "id": "8799894c",
   "metadata": {},
   "outputs": [
    {
     "name": "stdout",
     "output_type": "stream",
     "text": [
      "Enter a string: madam\n",
      "The string is palindrome.\n"
     ]
    }
   ],
   "source": [
    "s = input(\"Enter a string: \")\n",
    "s = s.lower()\n",
    "\n",
    "r = s[::-1] \n",
    "if s == r:\n",
    "    print(\"The string is palindrome.\")\n",
    "else:\n",
    "    print(\"The string is not palindrome.\")"
   ]
  },
  {
   "cell_type": "markdown",
   "id": "8b3c8564",
   "metadata": {},
   "source": [
    "##### 4.Write a Python program to get the third side of right-angled triangle from two given sides."
   ]
  },
  {
   "cell_type": "code",
   "execution_count": 35,
   "id": "2126d207",
   "metadata": {},
   "outputs": [
    {
     "name": "stdout",
     "output_type": "stream",
     "text": [
      "Enter the first side: 10.5\n",
      "Enter the second side: 22\n",
      "The third side is 24.37724348649781\n"
     ]
    }
   ],
   "source": [
    "side1 = float(input(\"Enter the first side: \"))\n",
    "side2 = float(input(\"Enter the second side: \"))\n",
    "\n",
    "\n",
    "side3 = (side1**2 + side2**2)**0.5\n",
    "\n",
    "print(\"The third side is\", side3)\n"
   ]
  },
  {
   "cell_type": "markdown",
   "id": "d97cdb42",
   "metadata": {},
   "source": [
    "##### 5. Write a python program to print the frequency of each of the characters present in a given string."
   ]
  },
  {
   "cell_type": "code",
   "execution_count": 48,
   "id": "3c1eb43e",
   "metadata": {},
   "outputs": [
    {
     "name": "stdout",
     "output_type": "stream",
     "text": [
      "Enter a string: hello world\n",
      "h : 1\n",
      "e : 1\n",
      "l : 3\n",
      "o : 2\n",
      "  : 1\n",
      "w : 1\n",
      "r : 1\n",
      "d : 1\n"
     ]
    }
   ],
   "source": [
    "s = input(\"Enter a string: \")\n",
    "\n",
    "freq = {}\n",
    "\n",
    "for c in s:\n",
    "    \n",
    "    if c in freq:\n",
    "        freq[c] += 1\n",
    "    else:\n",
    "        freq[c] = 1\n",
    "\n",
    "for k, v in freq.items():\n",
    "    print(k, \":\", v)\n"
   ]
  }
 ],
 "metadata": {
  "kernelspec": {
   "display_name": "Python 3 (ipykernel)",
   "language": "python",
   "name": "python3"
  },
  "language_info": {
   "codemirror_mode": {
    "name": "ipython",
    "version": 3
   },
   "file_extension": ".py",
   "mimetype": "text/x-python",
   "name": "python",
   "nbconvert_exporter": "python",
   "pygments_lexer": "ipython3",
   "version": "3.10.9"
  }
 },
 "nbformat": 4,
 "nbformat_minor": 5
}
